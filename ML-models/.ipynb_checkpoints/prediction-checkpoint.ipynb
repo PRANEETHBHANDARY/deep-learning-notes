{
 "cells": [
  {
   "cell_type": "code",
   "execution_count": 60,
   "metadata": {},
   "outputs": [
    {
     "name": "stdout",
     "output_type": "stream",
     "text": [
      "[6.81828652]\n",
      "Accuracy:  0.3957856046568643\n"
     ]
    }
   ],
   "source": [
    "import pandas as pd\n",
    "from sklearn.model_selection import train_test_split\n",
    "from sklearn.linear_model import LinearRegression\n",
    "import numpy as np\n",
    "class Model:\n",
    "    def __init__(self, datafile = \"weatherHistory.csv\"):\n",
    "        self.df = pd.read_csv(datafile)\n",
    "        self.linear_reg = LinearRegression()\n",
    "    def split(self, test_size):\n",
    "        X = np.array(self.df[['Humidity', 'Pressure (millibars)']])\n",
    "        y = np.array(self.df['Temperature (C)'])\n",
    "        self.X_train, self.X_test, self.y_train, self.y_test = train_test_split(X, y, test_size = test_size, random_state = 42)\n",
    "    \n",
    "    def fit(self):\n",
    "        self.model = self.linear_reg.fit(self.X_train, self.y_train)\n",
    "    \n",
    "    def predict(self, input_value):\n",
    "        if input_value == None:\n",
    "            result = self.linear_reg.predict(self.X_test)\n",
    "        else: \n",
    "            result = self.linear_reg.predict(np.array([input_value]))\n",
    "        return result\n",
    "\n",
    "if __name__ == '__main__':\n",
    "    model_instance = Model()\n",
    "    model_instance.split(0.2)\n",
    "    model_instance.fit()\n",
    "    print(model_instance.predict([.9,1098]))\n",
    "    print(\"Accuracy: \", model_instance.model.score(model_instance.X_test, model_instance.y_test))\n"
   ]
  },
  {
   "cell_type": "markdown",
   "metadata": {},
   "source": []
  },
  {
   "cell_type": "code",
   "execution_count": null,
   "metadata": {},
   "outputs": [],
   "source": []
  },
  {
   "cell_type": "code",
   "execution_count": null,
   "metadata": {},
   "outputs": [],
   "source": []
  },
  {
   "cell_type": "code",
   "execution_count": null,
   "metadata": {},
   "outputs": [],
   "source": []
  },
  {
   "cell_type": "code",
   "execution_count": null,
   "metadata": {},
   "outputs": [],
   "source": []
  },
  {
   "cell_type": "code",
   "execution_count": null,
   "metadata": {},
   "outputs": [],
   "source": []
  }
 ],
 "metadata": {
  "kernelspec": {
   "display_name": "Python 3",
   "language": "python",
   "name": "python3"
  },
  "language_info": {
   "codemirror_mode": {
    "name": "ipython",
    "version": 3
   },
   "file_extension": ".py",
   "mimetype": "text/x-python",
   "name": "python",
   "nbconvert_exporter": "python",
   "pygments_lexer": "ipython3",
   "version": "3.8.5"
  }
 },
 "nbformat": 4,
 "nbformat_minor": 4
}
